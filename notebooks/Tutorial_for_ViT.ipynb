{
  "nbformat": 4,
  "nbformat_minor": 0,
  "metadata": {
    "colab": {
      "provenance": [],
      "gpuType": "T4"
    },
    "kernelspec": {
      "name": "python3",
      "display_name": "Python 3"
    },
    "language_info": {
      "name": "python"
    },
    "accelerator": "GPU"
  },
  "cells": [
    {
      "cell_type": "markdown",
      "source": [
        "### 1. Clone the repo"
      ],
      "metadata": {
        "id": "4x_6UwcFBJFU"
      }
    },
    {
      "cell_type": "code",
      "source": [
        "!git clone https://github.com/atikul-islam-sajib/ViT-Scratch.git"
      ],
      "metadata": {
        "id": "iWCB8h7e95Bj"
      },
      "execution_count": null,
      "outputs": []
    },
    {
      "cell_type": "markdown",
      "source": [
        "### 2. Change the directory"
      ],
      "metadata": {
        "id": "3yKp3UX7BLj0"
      }
    },
    {
      "cell_type": "code",
      "source": [
        "%cd /content/ViT-Scratch"
      ],
      "metadata": {
        "id": "F2OdSrmf99pD"
      },
      "execution_count": null,
      "outputs": []
    },
    {
      "cell_type": "markdown",
      "source": [
        "### 3. Install the requirements.txt file"
      ],
      "metadata": {
        "id": "YDkW_RzABV3j"
      }
    },
    {
      "cell_type": "code",
      "source": [
        "!pip install -r /content/ViT-Scratch/requirements.txt"
      ],
      "metadata": {
        "id": "L1OWOdtv-DJr"
      },
      "execution_count": null,
      "outputs": []
    },
    {
      "cell_type": "markdown",
      "source": [
        "### 4. Change the config file\n",
        "\n",
        "```yaml\n",
        "path:\n",
        "  RAW_DATA_PATH: \"./data/raw/\"\n",
        "  PROCESSED_DATA_PATH: \"./data/processed/\"\n",
        "  FILES_PATH: \"./artifacts/files/\"\n",
        "  TRAIN_MODELS_PATH: \"./artifacts/checkpoints/train_models/\"\n",
        "  BEST_MODEL_PATH: \"./artifacts/checkpoints/best_model/\"\n",
        "  OUTPUTS_PATH: \"./artifacts/outputs/test_image/\"\n",
        "  METRICS_PATH: \"./artifacts/metrics/\"\n",
        "\n",
        "dataloader:\n",
        "  image_path: \"./data/dataset.zip\"\n",
        "  channels: 3\n",
        "  image_size: 128\n",
        "  batch_size: 32\n",
        "  split_size: 0.30\n",
        "  labels: [\"glioma\", \"meningioma\", \"notumor\", \"pituitary\"]\n",
        "\n",
        "MLFLow:\n",
        "  MLFLOW_TRACKING_URI: \"https://dagshub.com/atikul-islam-sajib/ViT-Scratch.mlflow\"\n",
        "  MLFLOW_USERNAME: \"********\"\n",
        "  MLFLOW_PASSWORD: \"********\"\n",
        "\n",
        "ViT:\n",
        "  patch_size: 8                     # Size of each image patch\n",
        "  nheads: 8                         # Number of attention heads\n",
        "  dim_feedforward: 2048             # Dimension of the feedforward network\n",
        "  num_layers: 6                     # Number of transformer layers\n",
        "  dropout: 0.1                      # Dropout rate\n",
        "  eps: 1e-05                        # Epsilon value for normalization layers\n",
        "  activation: \"relu\"                # Activation function\n",
        "\n",
        "\n",
        "trainer:\n",
        "  epochs: 100                       # Number of training epochs\n",
        "  lr: 2e-5                          # Learning rate\n",
        "  beta1: 0.5                        # Beta1 hyperparameter for Adam optimizer\n",
        "  beta2: 0.999                      # Beta2 hyperparameter for Adam optimizer\n",
        "  momentum: 0.90                    # Momentum for optimizers\n",
        "  weight_decay: 0.001               # Weight decay for regularization\n",
        "  step_size: 100                    # Step size for learning rate scheduler\n",
        "  gamma: 0.85                       # Multiplicative factor for learning rate decay\n",
        "  threshold: 2                      # Threshold for model saving purposes\n",
        "  device: \"cuda\"                    # Device to use for training (e.g., MPS, CPU, GPU)\n",
        "  adam: True                        # Use Adam optimizer\n",
        "  SGD: False                        # Use SGD optimizer\n",
        "  pixelLoss: False                  # Use pixel-wise loss\n",
        "  l1_regularization: False          # Use L1 regularization\n",
        "  l2_regularization: False          # Use L2 regularization\n",
        "  elasticnet_regularization: False  # Use Elastic Net regularization\n",
        "  lr_scheduler: True                # Enable learning rate scheduler\n",
        "  verbose: True                     # Enable verbose logging\n",
        "  mlflow: False                      # Enable MLflow tracking\n",
        "  \n",
        "\n",
        "```"
      ],
      "metadata": {
        "id": "STlrGGf5Bh0L"
      }
    },
    {
      "cell_type": "code",
      "source": [
        "%cat /content/ViT-Scratch/config.yml"
      ],
      "metadata": {
        "id": "acdaslpF-F_C"
      },
      "execution_count": null,
      "outputs": []
    },
    {
      "cell_type": "markdown",
      "source": [
        "### 5. Train the model"
      ],
      "metadata": {
        "id": "tr9ZWE5_Bsx7"
      }
    },
    {
      "cell_type": "code",
      "source": [
        "!python /content/ViT-Scratch/src/cli.py --train"
      ],
      "metadata": {
        "id": "pbgDZjUE_G34"
      },
      "execution_count": null,
      "outputs": []
    },
    {
      "cell_type": "markdown",
      "source": [
        "### 6. Test the model"
      ],
      "metadata": {
        "id": "zm2qt0BABvdI"
      }
    },
    {
      "cell_type": "code",
      "source": [
        "!python /content/ViT-Scratch/src/trainer.py"
      ],
      "metadata": {
        "id": "pbOIChBTA82S"
      },
      "execution_count": null,
      "outputs": []
    },
    {
      "cell_type": "code",
      "source": [
        "!python /content/ViT-Scratch/src/cli.py --test"
      ],
      "metadata": {
        "id": "txmfePN2_FXL"
      },
      "execution_count": null,
      "outputs": []
    }
  ]
}